{
 "cells": [
  {
   "cell_type": "markdown",
   "id": "9f490d73",
   "metadata": {},
   "source": [
    "### What is Statistics ?\n",
    "<p>Statistics is the science of collecting, analyzing, presenting, and interpreting data. In simple words statistics is the field in which we gather data and try to collect usefull informations from the gathered data, for the better understanding of problems. <br>\n",
    "Data can be any piece of information that can be measured. For e.x - height of students, weight of students etc.</p>\n",
    "<p>\n",
    "    Now there are two types of Statistics :-\n",
    "    <ol> \n",
    "        <li> <b>Descriptive Statistics</b> <span> - Descriptive statistics is the summary of data in the form of tabular, graphical, and numerical data. The purpose of descriptive statistics is to facilitate the presentation and interpretation of data. </span></li>\n",
    "        <li> <b>Inferential Statistics </b> <span> - Inferential statistics is the technique, in which we uses the data to draw some conclusion that can not be derived from descriptive statistics.</span></li>\n",
    "    </ol>\n",
    "    For better Understanding we can say that we use descriptive statistics only on sample data to gather information and summary about it, on the other hand we uses inferential statistics to draw some conclusion on population data, gathered information from sample data.<br>\n",
    "\n",
    "Lets have an example, lets take a class of 10 students with thier marks in a mathematics exam are <br>\n",
    "56, 67, 74, 56, 23, 99, 87, 91, 77, 54 <br>\n",
    "With the help of Descriptive statistics we can find -\n",
    "<ul>\n",
    "    <li> average marks of class</li>\n",
    "    <li> highest marks of class</li>\n",
    "    <li> lowest marks of class</li>\n",
    "</ul>\n",
    "With the help of Inferential statistics we can find -\n",
    "<ul>\n",
    "    <li> Are the marks of this classroom similar to marks of another section</li>\n",
    "    <li> How much the average marks of this section differs from the average marks of the entire class</li>\n",
    "</ul>\n",
    "\n",
    "\n",
    "Now lets start with Descriptive Satatistics\n",
    "\n",
    "<br>\n",
    "<br>\n",
    "\n",
    "### 1) Descriptive Statistics \n",
    "\n",
    "\n",
    "Descriptive statistics is the process of describing, presenting, summarising, and arranging data (population) using numerical computations, graphs, and tables. Descriptive statistics are broken down into measures of central tendency and measures of variability (spread). Measures of central tendency include the mean, median, and mode, while measures of variability include standard deviation, variance, minimum and maximum variables, kurtosis, and skewness.\n",
    "<br>\n",
    "<br>\n",
    "\n",
    "<b>1.1) Measure of Central Tendency :-</b> \n",
    "<p>Measures of central tendency concentrate on the average or middle values of data sets.</p>\n",
    "\n",
    "\n",
    "    1.1.1) Mean - A mean is the simple mathematical average of a set of two or more numbers.\n",
    "$$\n",
    "  \\bar{X} = \\frac{1}{N}\\sum\\limits _{i=1}^{N}X_{i}\n",
    "$$\n",
    "$\n",
    "  \\text{Where:,  }\\\\\n",
    "  \\\\\n",
    "  \\bar{X} \\text{ – Polulation Mean,  }\\\\\n",
    "  \\\\\n",
    "  X_{i}\\text{ – } i_{th} \\text{ observation,  }\\\\\n",
    "  \\\\\n",
    "  N\\text{ – Number of observations,  }\\\\\n",
    "$\n",
    "\n",
    "    1.1.2) Median - The median is the middle number in a sorted, ascending or descending, list of numbers and can be more descriptive of that data set than the average. The median is sometimes used as opposed to the mean when there are outliers in the sequence that might skew the average of the values.\n",
    "\n",
    "<!-- <img src = \"median_formula.svg\" alt=\"Median Formula\"/> -->\n",
    "$$Med(X) = \\begin{cases}\n",
    "X[\\frac{N+1}{2}] & \\text{if N is odd}\\\\ \n",
    "(\\frac{X[\\frac{(N)}{2}] + X[\\frac{(N+1)}{2}]}{2}) & \\text{if N is even}\n",
    "\\end{cases}$$\n",
    "$\n",
    "  \\text{Where:,  }\\\\\n",
    "  \\\\\n",
    "  Med(X) \\text{ – Polulation Median,  }\\\\\n",
    "  \\\\\n",
    "  N\\text{ – Number of observations,  }\\\\\n",
    "  \\\\\n",
    "$\n",
    "\n",
    "    1.1.3) Mode - The mode is the value that appears most frequently in a data set. A set of data may have one mode, more than one mode, or no mode at all.\n",
    "\n",
    "<strong> Note :- An outlier in the dataset can affect mean, whereas it does not affects median and mode. If half the number of data points are correct then the outliers have no affect on median and modes. </strong>\n",
    "\n",
    "<b>1.2) Measures of Variability :-</b>\n",
    "<p>Measures of variability (or the measures of spread) aid in analyzing how dispersed the distribution is for a set of data. For example, while the measures of central tendency may give a person the average of a data set, it does not describe how the data is distributed within the set. </p>\n",
    "\n",
    "    1.2.1) Variance - Variance measures how far a data set is spread out. It is mathematically defined as the average of the squared differences from the mean. \n",
    "    \n",
    "$$\n",
    "  Var(X) = \\frac{1}{N}\\sum\\limits _{i=1}^{N}(X_{i}-\\bar{X})^2\n",
    "$$\n",
    "\n",
    "$\n",
    "  \\text{Where:, ,  }\\\\\n",
    "  \\\\\n",
    "  Var(X) \\text{ – Polulation Variance, ,  }\\\\\n",
    "  \\\\\n",
    "  \\bar{X} \\text{ – Polulation Mean, ,  }\\\\\n",
    "  \\\\\n",
    "  X_{i}\\text{ – } i_{th} \\text{ observation, ,  }\\\\\n",
    "  \\\\\n",
    "  N\\text{ – Number of observations, ,  }\\\\\n",
    "  \\\\\n",
    "$\n",
    "\n",
    "    We are calculating the avergae of squared difference between the data and the population mean.<br><br>\n",
    "    \n",
    "\n",
    "    1.2.2) Standard Deviation - standard deviation is a measure of the amount of variation or dispersion of a set of values. A low standard deviation indicates that the values tend to be close to the mean of the set, while a high standard deviation indicates that the values are spread out over a wider range.\n",
    "    \n",
    "$$\n",
    "   \\sigma = \\sqrt{Var(X)} = \\sqrt {\\frac{\\sum\\limits _{i=1}(X_{i}-\\bar{X})^2}{N}}\n",
    "$$\n",
    "\n",
    "$\n",
    "  \\text{Where:,  }\\\\\n",
    "  \\\\\n",
    "  \\sigma \\text{ – Polulation Standard Deviation, }\\\\\n",
    "  \\\\\n",
    "  \\bar{X} \\text{ – Polulation Mean, }\\\\\n",
    "  \\\\\n",
    "  X_{i}\\text{ – } i_{th} \\text{ observation, }\\\\\n",
    "  \\\\\n",
    "  N\\text{ – Number of observations, }\\\\\n",
    "  \\\\\n",
    "$\n",
    "\n",
    "<p> <b> Note :- </b><br>\n",
    "    <ul>\n",
    "        <li> Squaring each term ensures that each difference is positive.</li>\n",
    "        <li> Because each term is squared, the unit for the results are squared. For e.x. For apples, units after applying formula becomes 100 $apples^2$.</li>\n",
    "        <li> So we can't plot variance on graph, since the units on X-axis are not squared.</li>\n",
    "        <li> So to solve this, we take square root of variance, that gives us Standard Deviation, which we can plot on X-axis.</li> \n",
    "        </ul></p>\n",
    "<p> <b> Why we use square of differences instead of using the absolute value in Variance? </b><br>\n",
    "    <ul>\n",
    "        <li> When we uses square of differences, doing calculas becomes easy. When we uses derivatives to find maxima and minima, we get a curve like this,\n",
    "\n",
    "<br>          \n",
    "<img src = \"images/minima_maxima.png\" alt=\"Maxima minima curce\"/>   \n",
    "<br>     \n",
    "            \n",
    "doing the calculas and understanding that this formula $ \\frac{d{\\sum}}{dv}\\{\\frac{1}{N}\\sum\\limits _{i=1}^{N}(X_{i}-\\bar{X})^2\\} $, uderestimated the variance around population mean was realtively easy.</li>\n",
    "        \n",
    "        <li> In contrast, if we uses the absolute value instead $ \\frac{\\sum\\limits _{i=1}|X_{i}-\\bar{X}|}{N} $, we would get a graph like this  \n",
    "            \n",
    "<br>            \n",
    "<img src = \"images/absolute_value.png\" alt=\"Maxima minima curce\"/>  \n",
    "<br>            \n",
    "            \n",
    "So, we have a sharp angle at min value of variance and derivatives do not exist at sharp angles, thus finding the min value is much harder with absolute value than the square.</li>\n",
    "        </ul></p>\n",
    "<strong> Note :- Neither the standard deviation nor the variance is robust to outliers. An outlier that is sepearate from the entire dataset  can increase  the value of an arbitrarily large amount. </strong>\n",
    "\n",
    "\n",
    "<br>\n",
    "<br>\n",
    "### 2) Population and Sample :-\n",
    "<br>\n",
    "<br>\n",
    "\n",
    "A population is the entire group that you want to draw conclusions about. A sample is the specific group that you will collect data from. The size of the sample is always less than the total size of the population.\n",
    "Above formula's are with respect to Population. \n",
    "\n",
    "In real world, we dont have enough resources to do experiments with whole population, lets say calculating avg height of a person, for that we need to measure heights of all 7 billion perople in order to calculate population mean height, so to avoid this we generally take a sample from the population and do experiments on that sample to estimate population mean.\n",
    "Higher the size of sample, more accurate the estimations of population parameters.\n",
    "For sample data, the formula for both measure of central tendenacy and variability changes.\n",
    "\n",
    "<br>\n",
    "<br>\n",
    "    2.1) Sample Mean:- also known as estimated population mean.\n",
    "$$\n",
    "  \\bar{x} = \\frac{1}{n}\\sum\\limits _{i=1}^{n}x_{i}\n",
    "$$\n",
    "$\n",
    "  \\text{Where:,  }\\\\\n",
    "  \\\\\n",
    "  \\bar{x} \\text{ – Sample Mean, }\\\\\n",
    "  \\\\\n",
    "  x_{i}\\text{ – } i_{th} \\text{ observation, }\\\\\n",
    "  \\\\\n",
    "  n\\text{ – Number of observations in sample, }\\\\\n",
    "  \\\\\n",
    "$\n",
    "\n",
    "\n",
    "    2.2) Sample Variance:- also known as estimated population variance.\n",
    "    \n",
    "$$\n",
    "  Var(x) = \\frac{1}{n-1}\\sum\\limits _{i=1}^{n}(x_{i}-\\bar{\\mu})^2\n",
    "$$\n",
    "$\n",
    "  \\text{Where:,  }\\\\\n",
    "  \\\\\n",
    "  Var(x) \\text{ – Sample Variance, }\\\\\n",
    "  \\\\\n",
    "  \\bar{\\mu} \\text{ – Sample Mean, }\\\\\n",
    "  \\\\\n",
    "  x_{i}\\text{ – } i_{th} \\text{ observation, }\\\\\n",
    "  \\\\\n",
    "  n\\text{ – Number of observations in sample, }\\\\\n",
    "  \\\\\n",
    "$\n",
    "\n",
    "\n",
    "\n",
    "<span><b>Here we are dividing by (n-1), because n-1 componsates for the fact that we are calculating difference from the sample mean instead of population mean.</b></span>\n",
    "\n",
    "\n",
    "    2.3) Sample Standard Deviation:- also known as estimated population std. deviation.\n",
    "$$\n",
    "   \\sigma = \\sqrt{Var(x)} = \\sqrt {\\frac{\\sum\\limits _{i=1}(x_{i}-\\bar{\\mu})^2}{n-1}}\n",
    "$$\n",
    "$\n",
    "  \\text{Where:,  }\\\\\n",
    "  \\\\\n",
    "  \\sigma \\text{ – Sample Standard Deviation, }\\\\\n",
    "  \\\\\n",
    "  \\bar{\\mu} \\text{ – Sample Mean, }\\\\\n",
    "  \\\\\n",
    "  x_{i}\\text{ – } i_{th} \\text{ observation, }\\\\\n",
    "  \\\\\n",
    "  n\\text{ – Number of observations in sample, }\\\\\n",
    "  \\\\\n",
    "$\n",
    "\n",
    "\n",
    "<br>\n",
    "<br>\n",
    "\n",
    "### 3) Percentiles and Quantiles :-\n",
    "<br>\n",
    "<br>\n",
    "\n",
    "\n",
    "<p> A <strong>percentile</strong> is a measure at which that percentage of the total values are the same as or below that measure. For example, 90% of the data values lie below the 90th percentile, whereas 10% of the data values lie below the 10th percentile.\n",
    "\n",
    "In simple words, a percentile is a value below which a certain percentage of observation exists. For e.x. a datasets (X) contains n datapoints and we want to calculate percentile of x which is at ith position in X.<br>\n",
    "$$ Percentile(x_{i}) = \\frac{\\text{number  of  values  below  (x_{i})}}{n}  $$</p>\n",
    "\n",
    "<p> <b>Quartiles</b> are special percentiles. Quartiles are values that divide a (part of a) data table into four groups containing an approximately equal number of observations. The total of 100% is split into four equal parts: 25%, 50%, 75% and 100%. The first quartile, Q1 , is the same as the 25 th percentile, and the third quartile, Q3 , is the same as the 75 th percentile. The median, M , is called both the second quartile and the 50 th percentile.</p>\n",
    "\n",
    "$$ Quantile(x) = \\frac{x}{100}(N+1)  $$\n",
    "\n",
    "$\n",
    "\\text {where : }\\\\\n",
    "\\\\\n",
    "N \\text{ - Number of Observations}\n",
    "$\n",
    "\n",
    "<br>\n",
    "<!-- <img src=\"Screenshot 2022-04-16 at 8.39.31 PM.png\" alt=\"Percentile example\" width=500 height=500/> -->\n",
    "<img src=\"images/Percentiles.png\" alt=\"Percentiles\"/>\n",
    "<br>\n",
    "    IQR (Inter Quartile Range) :- IQR is a measure of where the \"middle fifty\" is in dataset.  It is measure of where the bulk of data lies. IQR is calculated by the difference between 3rd quartile and 1st quartile.\n",
    "    \n",
    "$$\n",
    "  IQR = Q_{3}-Q_{1}\n",
    "$$\n",
    "\n",
    "$\n",
    "  \\text{Where:,  }\\\\\n",
    "  \\\\\n",
    "  Q_{3} \\text{ – 3rd quartile that is 75 percentile, }\\\\\n",
    "  \\\\\n",
    "  Q_{1}\\text{ – 1st quartile that is 25 percentile, }\\\\\n",
    "$\n",
    "\n",
    "\n",
    "### 4) Random Variable :-\n",
    "A rondom Variable is a variable which can take any values ranging from max value of an event to min value of an event. when we roll a dice, it can take any values from 1-6. So, we can define a random variable x as<br>\n",
    "\n",
    "$$ x = \\{1,2,3,4,5,6\\}  $$\n",
    "here x can take any value from 1 to 6.\n",
    "<p> Random Variable has 2 types :-\n",
    "    <ol>\n",
    "        <li> <b>Discrete Random Variable :-</b> Discrete random variables can take any value but it should always be an integer. For example rolling a dice, it can take any values from 1 ot 6.</li>\n",
    "        <li> <b> Continuous Random Variable :-</b> Continuous random variable can take any values within real numbers range. It can be float, int etc. For e.x. height of a student.</li>\n",
    "    </ol>\n",
    " </p>\n",
    "\n",
    "### 5) PDF, PMF and CDF :-\n",
    "\n",
    "    5.1) PDF (Probability Density Function):- PDF is a statistical term that describes the probability distribution of the continues random variable. The probability density function (PDF) is the probability that a random variable, say X, will take a value exactly equal to x. For example, if you roll a die, the probability of obtaining 1, 2, 3, 4, 5, or 6 is 16.667% (=1/6). The probability density function (PDF) or the probability that you will get exactly 2 will be 16.667%.\n",
    "<br>\n",
    "<img src=\"images/pdf.jpeg\" alt=\"PDF example\" title = \"PDF Example\" /> <center><b>PDF Example</b></center>\n",
    "<br>\n",
    "    5.2) PMF (Probability Mass Function):- PMF is a statistical term that describes the probability distribution of the Discrete random variable. The PDF is applicable for continues random variable while PMF is applicable for discrete random variable For e.g, Throwing a dice (You can only select 1 to 6 numbers (countable)).\n",
    "    \n",
    "    5.3) CDF (Cumulative Distribution Function):- The cumulative distribution function (CDF) is the probability that a random variable, say X, will take a value less than or equal to x. For example, if you roll a die, the probability of obtaining 1, 2, 3, 4, 5, or 6 is 16.667% (=1/6). The cumulative distribution function (CDF) of 2 is the probability that the next roll will take a value less than or equal to 2 and is equal to 33.33% as there are two possible ways to get a 2 or below.\n",
    "    \n",
    "<img src=\"images/cdf.jpeg\" alt=\"CDF example\"/> <center><b>CDF Example</b></center>\n",
    "\n",
    "The cumulative distribution function is applicable for describing the distribution of random variables either it is continuous or discrete\n",
    "    \n",
    "<img src=\"images/pdf and cdf.jpeg\" alt=\"PDF and CDF example\"/> <center><b>Difference between Pdf and cdf </b></center>\n",
    "\n",
    "<b> Note:- These graphs are w.r.t experiment rolling a dice. PDF is the derivative of the CDF, the CDF can be obtained from PDF by integration</b>\n",
    "\n",
    "<strong> Note :- </strong>\n",
    "\n",
    "$$ \\int{P.D.F} = C.D.F \\\\\n",
    "   \\frac{d[C.D.F]}{dt} = P.D.F  \n",
    "$$\n",
    "\n",
    "\n",
    "\n",
    "### 6) Bar Graphs and Histograms :-\n",
    "    6.1) Bar Graph :- The pictorial representation of data in groups, either in horizontal or vertical bars where the length of the bar represents the value of the data present on axis. They (bar graphs) are usually used to display or impart the information belonging to ‘categorical data’ i.e; data that fit in some category.\n",
    "    \n",
    "    A bar graph is the graphical representation of categorical data using rectangular bars where the length of each bar is proportional to the value they represent. \n",
    "    \n",
    "    6.2) Histograms :- Histograms are the graphical display of data with the help of bars, the heights of the bars may vary due to different data. The similarity of a Histogram resembles a bar chart, but histogram groups numbers into different ranges. The length of each bar tells how many fall into each range, and it can be decided which ranges are to be used.\n",
    "    A histogram is the graphical representation of data where data is grouped into continuous number ranges and each range corresponds to a vertical bar.\n",
    "    \n",
    "    6.3) Difference Between Bar graph and Histogram :-   \n",
    "\n",
    "<table>\n",
    "  <tr>\n",
    "    <th>Bar Graphs</th>\n",
    "    <th>Histograms</th>\n",
    "  </tr>\n",
    "  <tr>\n",
    "    <td>Equal space between every two consecutive bars.</td>\n",
    "    <td> No space between two consecutive bars. They should be attached to each other.</td>\n",
    "  </tr>\n",
    "  <tr>\n",
    "    <td>The x-axis can represent anything. </td>\n",
    "    <td>The x-axis should represent only continuous data that is in terms of numbers.</td>\n",
    "  </tr>\n",
    "</table>\n",
    "<img src=\"images/bar graph.png\" alt=\"bar graph\"/>\n",
    "\n",
    "### 7) Five Number Summary :-\n",
    "    The five-number summary is a set of descriptive statistics that provides information about a dataset. In other words, The five number summary gives you a rough idea about what your data set looks like. The five number summary includes 5 items:\n",
    "        i) The Minimum.\n",
    "        ii) Q1 (the first quartile, or the 25% mark).\n",
    "        iii) The Median.\n",
    "        iv) Q3 (the third quartile, or the 75% mark).\n",
    "        v) The Maximum.\n",
    "        \n",
    "\n",
    "    Five-Number summary is used to detect outliers in the dataset. With the help of Five-Number summary we first defines the lower fence and upper fence of dataset. And if any value is outside this range of lower and upper fence, then we declare that value as outlier.\n",
    "\n",
    "$$ Lower Fence = Q_{1} - 1.5(IQR),  \\\\\n",
    "   \\\\\n",
    "   \\\\\n",
    "    Upper Fence = Q_{3} + 1.5(IQR)\n",
    "$$\n",
    "\n",
    "    Suppose we have a dataset (1,2,2,2,3,3,4,5,5,5,6,6,6,67,8,8,9,27). So to find out outliers in this dataset, first we have to calculate Q1 and Q3, and then we can find outliers. \n",
    "    \n",
    "$$ Q_{1} = (25/100)(20) \\text{ as number of samples are 19,  }\\\\\n",
    "   \\\\\n",
    "   \\\\\n",
    "   Q_{3} = (75/100)(20)\n",
    "$$\n",
    "\n",
    "$$ Q_{1} = 3 \\\\\n",
    "   \\\\\n",
    "   \\\\\n",
    "   , Q_{3} = 7 \\\\\n",
    "   \\\\\n",
    "   , IQR = 4\n",
    "$$\n",
    "\n",
    "    So, Q1 comes to be 3 and Q3 comes to be 7. Now we will calculate lower fence and upper fence using the above formula. After putting all values and applying the formula we get lower fence as -3 and upper fence as 13. So any datapoint which is outside the range of -3 to 13 will be considered as Outlier.\n",
    "    \n",
    "\n",
    "### 8) Box Plot and Violin Plot :-\n",
    "    8.1) Box plot :- Box plots show the five-number summary of a set of data: including the minimum score, first (lower) quartile, median, third (upper) quartile, and maximum score. Box plots are useful as they provide a visual summary of the data enabling researchers to quickly identify mean values, the dispersion of the data set, and signs of skewness.\n",
    "<img src=\"images/box-plot.jpeg\" alt=\"Box Plot\" width=500 height=500/>\n",
    "\n",
    "    8.2) Violin Plot :- In general, violin plots are a kind of numeric data plot that is a hybrid of the box plot and the kernel density plot. We can find the same information in the violin plot as we can in the box plots:\n",
    "        i) The Minimum.\n",
    "        ii) Q1 (the first quartile, or the 25% mark).\n",
    "        iii) The Median.\n",
    "        iv) Q3 (the third quartile, or the 75% mark).\n",
    "        v) The Maximum.\n",
    "    The noticeable benefit of the violin plot over the box plot is that it displays the whole distribution of the data in addition to the above-mentioned statisticsfive number summary. This is of particular interest when working with multimodal data, i.e. a distribution having more than one peak.\n",
    "<img src=\"images/violin_plot.svg\" alt=\"Violin Plot\" width=600 height=600/>\n",
    "\n",
    "### 9) Covariance and Correlation :-\n",
    "    9.1) Covariance :- Covariance is a measure of the relationship between two random variables. Co variance is similar to variance except that it tells you how two variables vary together, whereas variance tells you how a single variable varies.\n",
    "    The main idea behind covariance is that it can classify three types of relationship :-\n",
    "        1) Relationship with positive treds (if x increases y also increases and vice versa).\n",
    "        2) Relationship with negative treds (if x increases then y decreases and vice versa).\n",
    "        3) When there is no relationship because there is no trend.\n",
    "     The covariance between two random variables X and Y can be calculated using the following formula (for population):\n",
    "$$\n",
    "  Cov(X,Y) = \\frac{\\sum\\limits (X_{i}-\\bar{X})(Y_{j}-\\bar{Y})}{N}\\\\\n",
    "$$\n",
    "\n",
    "$\n",
    "  \\text{Where:,  }\\\\\n",
    "  \\\\\n",
    "  X_{i} \\text{ – the values of the X-variable, }\\\\\n",
    "  \\\\\n",
    "  \\\\\n",
    "  Y_{j}\\text{ – the values of the Y-variable, }\\\\\n",
    "  \\\\\n",
    "  \\\\\n",
    "  \\bar{X}\\text{ – the mean (average) of the X-variable, } \\\\\n",
    "  \\\\\n",
    "  \\\\\n",
    "  \\bar{Y}\\text{ – the mean (average) of the Y-variable, } \\\\\n",
    "  \\\\\n",
    "  \\\\\n",
    "  N \\text{ – the number of data points, }\n",
    "$\n",
    "\n",
    "    For a sample covariance, the formula is slightly adjusted:\n",
    "$$\n",
    "  Cov(x,y) = \\frac{\\sum\\limits (x_{i}-\\bar{x})(y_{j}-\\bar{y})}{n-1}\\\\\n",
    "$$\n",
    "\n",
    "$\n",
    "  \\text{Where:,  }\\\\\n",
    "  \\\\\n",
    "  x_{i} \\text{ – the values of the x-variable, }\\\\\n",
    "  \\\\\n",
    "  y_{j}\\text{ – the values of the y-variable, }\\\\\n",
    "  \\\\\n",
    "  \\bar{x}\\text{ – the mean (average) of the x-variable, } \\\\\n",
    "  \\\\\n",
    "  \\bar{y}\\text{ – the mean (average) of the y-variable, } \\\\\n",
    "  \\\\\n",
    "  n-1 \\text{ – the number of data points, }\n",
    "$\n",
    "<img src=\"images/covariance.gif\" alt=\"Covariance image\"/>\n",
    "    - When the covariance value is +ve, we classify the trend is +ve,\n",
    "    - When the covariance value is -ve, we classify the trend is -ve,\n",
    "    - When the covariance value is 0, we classify there is no trends.\n",
    "    \n",
    "    Covariance can only measure the directional relationship between two assets. It cannot show the strength of the relationship between assets. Covariance value does not tell us how strong relationship are between two random variables, the relationship can be strong or weak.\n",
    "    The covariance values are sensitive to scale of data and this makes them difficult to interpret. For e.x. If we find covariance of (X,Y) and its value is 102. And now if we multiply all its data by 2 then covariance value would be 408, that is 4 times.\n",
    "    \n",
    "    9.2) Correlation :- Correlation means association - more precisely it is a measure of the extent to which two variables are related. We can quantify the strength of the relationship with correlation.\n",
    "    \n",
    "$$\n",
    "  Cor(x,y) =\\rho =  \\frac{Cov(x,y)}{\\sigma_{x}\\sigma_{y}}\n",
    "$$\n",
    "\n",
    "$\n",
    "  \\text{Where:, }\\\\\n",
    "  \\\\\n",
    "  Cov(x,y) \\text{ – Cov of x,y, }\\\\\n",
    "  \\\\\n",
    "  \\sigma_{x}\\text{ – standard deviation of x, }\\\\\n",
    "  \\\\\n",
    "  \\sigma_{y}\\text{ – standard deviation of y, }\\\\\n",
    "$\n",
    "\n",
    "<img src=\"images/correlation_new.jpeg\" alt=\"Correlation image\"/>\n",
    "\n",
    "    Correlation not only tells us about relationship between two random variables, but it also tells us about the strength of their relationship.\n",
    "    - If the data were close to trend line, then given a value of x, we can guess that the value of y falls in small range (close to trend line). The closer the data points are to the trend line, the more datapoint x can tell us about datapoint y, alternatively we can say that relationship between x and y is relatively strong.\n",
    "    - If the data points are farther from trend line, then we might guess the value for variable y falls in larger range. In this case we can say that the values of x, tell us less about the values of y. Alternatively, we can say that their is a weak relationship between x and y.\n",
    "    - Correlation values lies between -1 to 1.\n",
    "      where :-\n",
    "             1 indicates the relationship between x,y is strong. As the values approches to 1, the relationships                      strength tends to increase.\n",
    "             -1 indicates the relationship between x,y is weak. As the values approches to -1, the relationships                strength tends to decraese.\n",
    "             0 indicates there is no relationship between x,y.\n",
    "    9.2.1) Pearson Correlation Coefficient :- It is used to find correlation between linear sets of data points. However, it can not find relationship between monotically increasing or decreasing data.\n",
    "$$\n",
    "  P_{Cor(x,y)} =\\rho =  \\frac{Cov(x,y)}{\\sigma_{x}\\sigma_{y}}\n",
    "$$\n",
    "\n",
    "$\n",
    "  \\text{Where:, }\\\\\n",
    "  \\\\\n",
    "  Cov(x,y) \\text{ – Cov of x,y, }\\\\\n",
    "  \\\\\n",
    "  \\sigma_{x}\\text{ – standard deviation of x, } \\\\\n",
    "  \\\\\n",
    "  \\sigma_{y}\\text{ – standard deviation of y, }\\\\\n",
    "$\n",
    "    \n",
    "    9.2.2) Spearman Rank Correlation Coefficient :- The Spearman rank correlation coefficient, rs, is the nonparametric version of the Pearson correlation coefficient. Your data must be ordinal, interval or ratio. To find spearman rank correlation between two varibles, we first sort them both and then apply the below formula.\n",
    "\n",
    "$$\n",
    " \\rho =  1 - \\frac{6\\sum\\limits d_{i}^2}{n(n^2-1)}\n",
    "$$ \n",
    "\n",
    "$\n",
    "  \\text{Where:,  }\\\\\n",
    "  \\\\\n",
    "  \\rho \\text{ – Spearman's rank correlation coefficient, }\\\\\n",
    "  \\\\\n",
    "  d_{i}\\text{ – difference between the two ranks of each observation, }\\\\\n",
    "  \\\\\n",
    "  n\\text{ – number of observations, }\\\\\n",
    "$\n",
    "\n",
    "<img src=\"images/spearman_rank.png\" alt=\"Spearman Rank Correlation image\"/>\n",
    "    \n",
    "    This is the example where pearson coorelation fails for monotically increasing data.\n",
    "    \n",
    "<b> Note :- Range of Covariance is negative infinity to positive infinity and range of Correlation is negative one to positive one. As covariance varies from -∞ to + ∞ thats why we cant quantify how strong the two features are related.</b>\n"
   ]
  },
  {
   "cell_type": "markdown",
   "id": "250135c4",
   "metadata": {},
   "source": [
    "## Lets try all these theories with practicle examples"
   ]
  },
  {
   "cell_type": "markdown",
   "id": "6519b930",
   "metadata": {},
   "source": [
    "Lets take one poplulation data, and from that we will take one sample data"
   ]
  },
  {
   "cell_type": "code",
   "execution_count": 233,
   "id": "e0de5427",
   "metadata": {},
   "outputs": [],
   "source": [
    "import numpy as np\n",
    "import matplotlib.pyplot as plt\n",
    "import math\n",
    "from scipy import stats as st\n",
    "import seaborn as sns\n",
    "import statistics    # is module for statistics\n",
    "%matplotlib inline"
   ]
  },
  {
   "cell_type": "code",
   "execution_count": 44,
   "id": "ab6e4013",
   "metadata": {},
   "outputs": [
    {
     "data": {
      "text/plain": [
       "array([97, 82,  7, 14, 73, 64, 49, 33, 63, 42,  5, 83,  4,  0, 77,  9, 70,\n",
       "       40,  1, 64, 19, 18, 17, 23,  2, 62, 60, 56, 22, 87, 54,  6,  9,  2,\n",
       "       90, 89, 31, 80, 79, 22, 98, 21, 81, 44, 55, 65, 43,  4, 11, 46, 59,\n",
       "       31, 58, 42,  5,  0, 93, 24, 16, 28, 21, 45,  9, 67, 15,  8, 74, 25,\n",
       "       93, 82, 77, 78, 84, 78,  7,  8, 83, 69, 16, 74, 97, 41,  6, 51, 52,\n",
       "       91, 88, 67, 30, 58, 83, 32,  5, 73, 47, 49, 66,  1, 81, 22])"
      ]
     },
     "execution_count": 44,
     "metadata": {},
     "output_type": "execute_result"
    }
   ],
   "source": [
    "population_data = [int(i) for i in np.random.rand(100)*100]  #genearting population data of random integers\n",
    "np.array(population_data)"
   ]
  },
  {
   "cell_type": "code",
   "execution_count": 45,
   "id": "f92f0c5f",
   "metadata": {},
   "outputs": [
    {
     "data": {
      "text/plain": [
       "array([64, 79, 74, 28, 79, 69, 89, 47, 11, 23,  9, 60, 83, 25, 42])"
      ]
     },
     "execution_count": 45,
     "metadata": {},
     "output_type": "execute_result"
    }
   ],
   "source": [
    "# now take a sample of 15 datapoints from this population\n",
    "sample_data = np.random.choice(population_data,15)\n",
    "sample_data"
   ]
  },
  {
   "cell_type": "code",
   "execution_count": 46,
   "id": "6a1dda0d",
   "metadata": {},
   "outputs": [],
   "source": [
    "# now lets calculate population and sample mean, median,mode\n",
    "# first lets try with our self made function and then we will try inbuilt functions"
   ]
  },
  {
   "cell_type": "code",
   "execution_count": 279,
   "id": "429a9114",
   "metadata": {},
   "outputs": [],
   "source": [
    "def mean(data):\n",
    "    sum=0\n",
    "    for i in data:\n",
    "        sum+=i\n",
    "    return sum/len(data)\n",
    "\n",
    "def median(data):\n",
    "    length = len(data)  #first we have to sort the list\n",
    "    data = sorted(data)\n",
    "    if length%2==0:\n",
    "        median = (data[((length)//2)-1]+data[((length+2)//2-1)])/2    # here we are subtracting -1 because indexes starts with 0\n",
    "    else:\n",
    "        median = data[((length+1)//2)-1]\n",
    "    return median\n",
    "\n",
    "def mode(data):\n",
    "    data = sorted(data)\n",
    "    d={}\n",
    "    for i in data:\n",
    "        if i in d:\n",
    "            d[i]+=1\n",
    "        else:\n",
    "            d[i]=1\n",
    "    d = dict(sorted(d.items(), key = lambda item :item[1]))\n",
    "\n",
    "    max_value = max(d.values())\n",
    "\n",
    "    for i,j in d.items():\n",
    "        if j==max_value:\n",
    "            return i\n",
    "# sample mean,median, modes formula are same so we can use these formula for both sample and polulation"
   ]
  },
  {
   "cell_type": "code",
   "execution_count": 280,
   "id": "f95c0d98",
   "metadata": {},
   "outputs": [],
   "source": [
    "def p_variance(data):\n",
    "    # first of all we will calculate mean\n",
    "    X_bar = mean(data)\n",
    "    diff = []\n",
    "    for i in data:\n",
    "        diff.append(i-X_bar)\n",
    "    diff_square = [(i**2) for i in diff]\n",
    "    sum = 0\n",
    "    for i in diff_square:\n",
    "        sum+=i\n",
    "    return sum/len(data)\n",
    "\n",
    "def p_std_dev(data):\n",
    "    sigma_square = popu_variance(data)\n",
    "    return math.sqrt(sigma_square)\n",
    "\n",
    "def variance(data):\n",
    "    # first of all we will calculate mean\n",
    "    x_bar = mean(data)\n",
    "    diff = []\n",
    "    for i in data:\n",
    "        diff.append(i-x_bar)\n",
    "    diff_square = [(i**2) for i in diff]\n",
    "    sum = 0\n",
    "    for i in diff_square:\n",
    "        sum+=i\n",
    "    return sum/(len(data)-1)\n",
    "\n",
    "def std_dev(data):\n",
    "    sigma_square = sample_variance(data)\n",
    "    return math.sqrt(sigma_square)"
   ]
  },
  {
   "cell_type": "code",
   "execution_count": 136,
   "id": "4f0ea369",
   "metadata": {},
   "outputs": [],
   "source": [
    "# Now lets use these functions"
   ]
  },
  {
   "cell_type": "code",
   "execution_count": 137,
   "id": "b1510658",
   "metadata": {},
   "outputs": [],
   "source": [
    "pop_mean = mean(population_data)\n",
    "pop_median = median(population_data)\n",
    "pop_mode = mode(population_data)\n",
    "\n",
    "pop_variance = popu_variance(population_data)\n",
    "pop_std_dev = popu_std_dev(population_data)\n",
    "\n",
    "sample_mean = mean(sample_data)\n",
    "sample_median = median(sample_data)\n",
    "sample_mode = mode(sample_data)\n",
    "\n",
    "sample_var = sample_variance(sample_data)\n",
    "sample_std_dev_value = sample_std_dev(sample_data)"
   ]
  },
  {
   "cell_type": "code",
   "execution_count": 138,
   "id": "a3888a7f",
   "metadata": {},
   "outputs": [
    {
     "name": "stdout",
     "output_type": "stream",
     "text": [
      "Population Mean = 45.82 and Sample Mean = 52.13333333333333\n",
      "Population Median = 46.5 and Sample Median = 60\n",
      "Population Mode = 5 and Sample Mode = 79\n",
      "Population Variance = 935.8875999999999 and Sample Variance = 754.9809523809523\n",
      "Population Std. Dev = 30.592280071939715 and Sample Std. Dev = 27.476916718965253\n"
     ]
    }
   ],
   "source": [
    "print(f\"Population Mean = {pop_mean} and Sample Mean = {sample_mean}\")\n",
    "print(f\"Population Median = {pop_median} and Sample Median = {sample_median}\")\n",
    "print(f\"Population Mode = {pop_mode} and Sample Mode = {sample_mode}\")\n",
    "print(f\"Population Variance = {pop_variance} and Sample Variance = {sample_var}\")\n",
    "print(f\"Population Std. Dev = {pop_std_dev} and Sample Std. Dev = {sample_std_dev_value}\")"
   ]
  },
  {
   "cell_type": "code",
   "execution_count": 139,
   "id": "c843707e",
   "metadata": {},
   "outputs": [],
   "source": [
    "# Now calculate all these values by inbuilt functions\n",
    "pop_mean_ = np.mean(population_data)\n",
    "pop_median_ = np.median(population_data)\n",
    "pop_mode_ = st.mode(population_data)[0][0]\n",
    "\n",
    "pop_variance_ = statistics.pvariance(population_data)\n",
    "pop_std_dev_ = statistics.pstdev(population_data)\n",
    "\n",
    "sample_mean_ = np.mean(sample_data)\n",
    "sample_median_ = np.median(sample_data)\n",
    "sample_mode_ = st.mode(sample_data)[0][0]\n",
    "\n",
    "sample_var_ = statistics.variance(sample_data)\n",
    "sample_std_dev_value_ = statistics.stdev(sample_data)"
   ]
  },
  {
   "cell_type": "code",
   "execution_count": 140,
   "id": "ddddb750",
   "metadata": {},
   "outputs": [
    {
     "name": "stdout",
     "output_type": "stream",
     "text": [
      "using inbuilt functions we got answers as\n",
      "Population Mean = 45.82 and Sample Mean = 52.13333333333333\n",
      "Population Median = 46.5 and Sample Median = 60.0\n",
      "Population Mode = 5 and Sample Mode = 79\n",
      "Population Variance = 935.8876 and Sample Variance = 754\n",
      "Population Std. Dev = 30.59228007193972 and Sample Std. Dev = 27.459060435491963\n"
     ]
    }
   ],
   "source": [
    "print(\"using inbuilt functions we got answers as\")\n",
    "print(f\"Population Mean = {pop_mean_} and Sample Mean = {sample_mean_}\")\n",
    "print(f\"Population Median = {pop_median_} and Sample Median = {sample_median_}\")\n",
    "print(f\"Population Mode = {pop_mode_} and Sample Mode = {sample_mode_}\")\n",
    "print(f\"Population Variance = {pop_variance_} and Sample Variance = {sample_var_}\")\n",
    "print(f\"Population Std. Dev = {pop_std_dev_} and Sample Std. Dev = {sample_std_dev_value_}\")"
   ]
  },
  {
   "cell_type": "markdown",
   "id": "032134ea",
   "metadata": {},
   "source": [
    "<strong> As we can see all our values matches with inbuilt functions </strong>"
   ]
  },
  {
   "cell_type": "code",
   "execution_count": 214,
   "id": "87265b27",
   "metadata": {},
   "outputs": [],
   "source": [
    "#Function to find the percentile of a given data point from list of datapoints\n",
    "def percentile(data,data_point):\n",
    "    data = sorted(data)\n",
    "    index = data.index(data_point)\n",
    "    value = (index/len(data))*100\n",
    "    \n",
    "    return value\n",
    "\n",
    "def quantiles(data,value):\n",
    "    data = sorted(data)\n",
    "    \n",
    "    index = (value/100)*(len(data)+1)\n",
    "    \n",
    "    return data[round(index)]"
   ]
  },
  {
   "cell_type": "code",
   "execution_count": 250,
   "id": "f30e23e6",
   "metadata": {},
   "outputs": [],
   "source": [
    "li=[45, 56, 59, 63, 69, 72, 78, 80, 82, 94]\n",
    "a = percentile(li,69)\n",
    "b = quantiles(li,40)"
   ]
  },
  {
   "cell_type": "code",
   "execution_count": 217,
   "id": "a1bb671c",
   "metadata": {},
   "outputs": [
    {
     "name": "stdout",
     "output_type": "stream",
     "text": [
      "40.0 69\n"
     ]
    }
   ],
   "source": [
    "print(a,b)"
   ]
  },
  {
   "cell_type": "code",
   "execution_count": 219,
   "id": "69462b49",
   "metadata": {},
   "outputs": [],
   "source": [
    "# we can use different modules also like numpy,statistics,spacy,math and their results may also\n",
    "# differ because they all use different approaches"
   ]
  },
  {
   "cell_type": "code",
   "execution_count": 220,
   "id": "cb5867ba",
   "metadata": {},
   "outputs": [
    {
     "name": "stdout",
     "output_type": "stream",
     "text": [
      "82 63\n",
      "IQR is = 19\n"
     ]
    }
   ],
   "source": [
    "# to calculate IQR we can simply use our quantiles function\n",
    "q1,q3 = quantiles(li,25),quantiles(li,75)\n",
    "print(q3,q1)\n",
    "print(f\"IQR is = {q3-q1}\")"
   ]
  },
  {
   "cell_type": "code",
   "execution_count": 222,
   "id": "45af2dc3",
   "metadata": {},
   "outputs": [
    {
     "name": "stdout",
     "output_type": "stream",
     "text": [
      "79.5 60.0\n",
      "The Interquartile Range for the data is: 19.5\n"
     ]
    }
   ],
   "source": [
    "q3, q1 = np.percentile(li, [75 ,25])\n",
    "print(q3,q1)\n",
    "iqr = q3 - q1\n",
    "#print the interquartile range \n",
    "print('The Interquartile Range for the data is:',iqr)"
   ]
  },
  {
   "cell_type": "code",
   "execution_count": 223,
   "id": "b27bb8cb",
   "metadata": {},
   "outputs": [
    {
     "name": "stdout",
     "output_type": "stream",
     "text": [
      "18.0\n"
     ]
    }
   ],
   "source": [
    "IQR = st.iqr(li, interpolation = 'midpoint')\n",
    "  \n",
    "print(IQR)"
   ]
  },
  {
   "cell_type": "code",
   "execution_count": 227,
   "id": "9bdd47ea",
   "metadata": {},
   "outputs": [
    {
     "name": "stdout",
     "output_type": "stream",
     "text": [
      "22.25\n"
     ]
    }
   ],
   "source": [
    "q1,median,q3 = statistics.quantiles(li, n=4, method='exclusive')\n",
    "print(q3-q1)"
   ]
  },
  {
   "cell_type": "markdown",
   "id": "99228b2f",
   "metadata": {},
   "source": [
    "<strong> So we used 4 Method to find IQR, and we got 4 different results from each method.\n",
    "    <ul>\n",
    "        <li> First we used, our own method and we got IQR as 19.</li>\n",
    "        <li> Second we used, numpy module and we got IQR as 19.5</li>\n",
    "        <li> Third we used, Scipy.stats and we got IQR as 18.</li>\n",
    "        <li> And last fourth one we used, statistics module and we got IQR as 22.5</li>\n",
    "    </ul>\n",
    "</strong>"
   ]
  },
  {
   "cell_type": "code",
   "execution_count": 231,
   "id": "fe754e35",
   "metadata": {},
   "outputs": [
    {
     "data": {
      "text/plain": [
       "<matplotlib.legend.Legend at 0x11e9a6290>"
      ]
     },
     "execution_count": 231,
     "metadata": {},
     "output_type": "execute_result"
    },
    {
     "data": {
      "image/png": "[encoded data removed]",
      "text/plain": [
       "<Figure size 432x288 with 1 Axes>"
      ]
     },
     "metadata": {
      "needs_background": "light"
     },
     "output_type": "display_data"
    }
   ],
   "source": [
    "count, bins_count = np.histogram(sample_data, bins=10)\n",
    "  \n",
    "# finding the PDF of the histogram using count values\n",
    "pdf = count / sum(count)\n",
    "  \n",
    "# using numpy np.cumsum to calculate the CDF\n",
    "# We can also find using the PDF values by looping and adding\n",
    "cdf = np.cumsum(pdf)\n",
    "  \n",
    "# plotting PDF and CDF\n",
    "plt.plot(bins_count[1:], pdf, color=\"red\", label=\"PDF\")\n",
    "plt.plot(bins_count[1:], cdf, label=\"CDF\")\n",
    "plt.legend()"
   ]
  },
  {
   "cell_type": "code",
   "execution_count": 245,
   "id": "a6f2c6b7",
   "metadata": {},
   "outputs": [
    {
     "data": {
      "image/png": "[encoded data removed]",
      "text/plain": [
       "<Figure size 432x288 with 1 Axes>"
      ]
     },
     "metadata": {
      "needs_background": "light"
     },
     "output_type": "display_data"
    }
   ],
   "source": [
    "a = plt.boxplot(li,vert=True,showfliers=True)"
   ]
  },
  {
   "cell_type": "code",
   "execution_count": 247,
   "id": "9db03a97",
   "metadata": {},
   "outputs": [
    {
     "data": {
      "image/png": "[encoded data removed]",
      "text/plain": [
       "<Figure size 432x288 with 1 Axes>"
      ]
     },
     "metadata": {
      "needs_background": "light"
     },
     "output_type": "display_data"
    }
   ],
   "source": [
    "# lets add a outlier in li\n",
    "li.append(132)\n",
    "li.append(202)\n",
    "b = plt.boxplot(li,vert=True,showfliers=True)   # we can see there are two outliers in this dataset"
   ]
  },
  {
   "cell_type": "code",
   "execution_count": 251,
   "id": "80900d64",
   "metadata": {},
   "outputs": [
    {
     "data": {
      "image/png": "[encoded data removed]",
      "text/plain": [
       "<Figure size 432x288 with 1 Axes>"
      ]
     },
     "metadata": {
      "needs_background": "light"
     },
     "output_type": "display_data"
    }
   ],
   "source": [
    "c = plt.violinplot(li,vert=True) "
   ]
  },
  {
   "cell_type": "code",
   "execution_count": 268,
   "id": "67871674",
   "metadata": {},
   "outputs": [],
   "source": [
    "def covariance(data_x,data_y,data_type=\"sample\"):\n",
    "    mean_x = mean(data_x)\n",
    "    mean_y = mean(data_y)\n",
    "    diff_x = [i-mean_x for i in data_x]\n",
    "    diff_y = [i-mean_y for i in data_y]\n",
    "    diff_sum = [i*j for i,j in zip(diff_x,diff_y)]\n",
    "    if data_type==\"sample\":\n",
    "        return sum(diff_sum)/(len(data_x)-1)\n",
    "    return sum(diff_sum)/(len(data_x))"
   ]
  },
  {
   "cell_type": "code",
   "execution_count": 276,
   "id": "4d9e5271",
   "metadata": {},
   "outputs": [
    {
     "name": "stdout",
     "output_type": "stream",
     "text": [
      "[0, 1, 2, 3, 4, 5, 6, 7, 8, 9]\n",
      "[0, 2, 4, 6, 8, 10, 12, 14, 16, 18]\n"
     ]
    }
   ],
   "source": [
    "li = [i for i in range(10)]\n",
    "li2 = [i*2 for i in range(10)]\n",
    "print(li)\n",
    "print(li2)"
   ]
  },
  {
   "cell_type": "code",
   "execution_count": 270,
   "id": "3aabdb0a",
   "metadata": {},
   "outputs": [
    {
     "data": {
      "text/plain": [
       "16.5"
      ]
     },
     "execution_count": 270,
     "metadata": {},
     "output_type": "execute_result"
    }
   ],
   "source": [
    "covariance(li,li2,\"population\")"
   ]
  },
  {
   "cell_type": "code",
   "execution_count": 271,
   "id": "834314ff",
   "metadata": {},
   "outputs": [
    {
     "data": {
      "text/plain": [
       "18.333333333333332"
      ]
     },
     "execution_count": 271,
     "metadata": {},
     "output_type": "execute_result"
    }
   ],
   "source": [
    "covariance(li,li2,\"sample\")"
   ]
  },
  {
   "cell_type": "code",
   "execution_count": 260,
   "id": "7deade77",
   "metadata": {},
   "outputs": [
    {
     "name": "stdout",
     "output_type": "stream",
     "text": [
      "18.333333333333332\n"
     ]
    }
   ],
   "source": [
    "print(statistics.covariance(li,li2))"
   ]
  },
  {
   "cell_type": "code",
   "execution_count": 285,
   "id": "9125a1c1",
   "metadata": {},
   "outputs": [],
   "source": [
    "def pearson_correlation(data_x,data_y):\n",
    "    \n",
    "    cov = covariance(data_x,data_y)\n",
    "    std_x = std_dev(data_x)\n",
    "    std_y = std_dev(data_y)\n",
    "    return cov/(std_x*std_y)\n",
    "    \n",
    "def spearman_rank_correlation(data_x,data_y):\n",
    "    data_x_sorted = sorted(data_x)\n",
    "    data_y_sorted = sorted(data_y)\n",
    "    rank_x = [data_x_sorted.index(i) for i in data_x]\n",
    "    rank_y = [data_y_sorted.index(i) for i in data_y]\n",
    "    diff = [(i-j)**2 for i,j in zip(rank_x,rank_y)]\n",
    "    diff_sum = sum(diff)\n",
    "     \n",
    "    k = (6*(diff_sum))/(len(data_x)*((len(data_x)**2)-1))\n",
    "    return 1-k"
   ]
  },
  {
   "cell_type": "markdown",
   "id": "25f5c305",
   "metadata": {},
   "source": [
    "$$\n",
    " \\rho =  1 - \\frac{6\\sum\\limits d_{i}^2}{n(n^2-1)}\n",
    "$$ \n",
    "\n",
    "$\n",
    "  \\text{Where: }\\\\\n",
    "  \\rho \\text{ – Spearman's rank correlation coefficient}\\\\\n",
    "  d_{i}\\text{ – difference between the two ranks of each observation}\\\\\n",
    "  n\\text{ – number of observations}\\\\\n",
    "$"
   ]
  },
  {
   "cell_type": "code",
   "execution_count": 277,
   "id": "240d0ed0",
   "metadata": {},
   "outputs": [
    {
     "data": {
      "text/plain": [
       "1.0"
      ]
     },
     "execution_count": 277,
     "metadata": {},
     "output_type": "execute_result"
    }
   ],
   "source": [
    "statistics.correlation(li,li2)"
   ]
  },
  {
   "cell_type": "code",
   "execution_count": 281,
   "id": "628e767a",
   "metadata": {},
   "outputs": [
    {
     "data": {
      "text/plain": [
       "0.9999999999999998"
      ]
     },
     "execution_count": 281,
     "metadata": {},
     "output_type": "execute_result"
    }
   ],
   "source": [
    "pearson_correlation(li,li2)"
   ]
  },
  {
   "cell_type": "code",
   "execution_count": 282,
   "id": "ffe98c05",
   "metadata": {},
   "outputs": [
    {
     "data": {
      "text/plain": [
       "(-1.0, -1.0)"
      ]
     },
     "execution_count": 282,
     "metadata": {},
     "output_type": "execute_result"
    }
   ],
   "source": [
    "x = [1, 2, 3, 4, 5, 6, 7, 8, 9]\n",
    "y = [9, 8, 7, 6, 5, 4, 3, 2, 1]\n",
    "statistics.correlation(x,y),pearson_correlation(x,y)"
   ]
  },
  {
   "cell_type": "code",
   "execution_count": 283,
   "id": "4258b21d",
   "metadata": {},
   "outputs": [
    {
     "data": {
      "text/plain": [
       "SpearmanrResult(correlation=0.9999999999999999, pvalue=6.646897422032013e-64)"
      ]
     },
     "execution_count": 283,
     "metadata": {},
     "output_type": "execute_result"
    }
   ],
   "source": [
    "st.spearmanr(li,li2)"
   ]
  },
  {
   "cell_type": "code",
   "execution_count": 286,
   "id": "12f51329",
   "metadata": {},
   "outputs": [
    {
     "data": {
      "text/plain": [
       "1.0"
      ]
     },
     "execution_count": 286,
     "metadata": {},
     "output_type": "execute_result"
    }
   ],
   "source": [
    "spearman_rank_correlation(li,li2)"
   ]
  },
  {
   "cell_type": "code",
   "execution_count": 287,
   "id": "4dff32ba",
   "metadata": {},
   "outputs": [
    {
     "data": {
      "text/plain": [
       "SpearmanrResult(correlation=-1.0, pvalue=0.0)"
      ]
     },
     "execution_count": 287,
     "metadata": {},
     "output_type": "execute_result"
    }
   ],
   "source": [
    "st.spearmanr(x,y)"
   ]
  },
  {
   "cell_type": "code",
   "execution_count": 288,
   "id": "b8944018",
   "metadata": {},
   "outputs": [
    {
     "data": {
      "text/plain": [
       "-1.0"
      ]
     },
     "execution_count": 288,
     "metadata": {},
     "output_type": "execute_result"
    }
   ],
   "source": [
    "spearman_rank_correlation(x,y)"
   ]
  },
  {
   "cell_type": "code",
   "execution_count": null,
   "id": "ebafead5",
   "metadata": {},
   "outputs": [],
   "source": []
  }
 ],
 "metadata": {
  "kernelspec": {
   "display_name": "Python 3 (ipykernel)",
   "language": "python",
   "name": "python3"
  },
  "language_info": {
   "codemirror_mode": {
    "name": "ipython",
    "version": 3
   },
   "file_extension": ".py",
   "mimetype": "text/x-python",
   "name": "python",
   "nbconvert_exporter": "python",
   "pygments_lexer": "ipython3",
   "version": "3.10.4"
  }
 },
 "nbformat": 4,
 "nbformat_minor": 5
}
